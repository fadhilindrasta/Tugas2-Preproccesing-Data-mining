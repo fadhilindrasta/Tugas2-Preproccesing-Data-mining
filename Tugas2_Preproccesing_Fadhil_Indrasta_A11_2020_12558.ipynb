{
  "nbformat": 4,
  "nbformat_minor": 0,
  "metadata": {
    "colab": {
      "provenance": [],
      "authorship_tag": "ABX9TyMa6KALpKl9LTHNbxeq0hMX",
      "include_colab_link": true
    },
    "kernelspec": {
      "name": "python3",
      "display_name": "Python 3"
    },
    "language_info": {
      "name": "python"
    }
  },
  "cells": [
    {
      "cell_type": "markdown",
      "metadata": {
        "id": "view-in-github",
        "colab_type": "text"
      },
      "source": [
        "<a href=\"https://colab.research.google.com/github/fadhilindrasta/Tugas2-Preproccesing-Data-mining/blob/main/Tugas2_Preproccesing_Fadhil_Indrasta_A11_2020_12558.ipynb\" target=\"_parent\"><img src=\"https://colab.research.google.com/assets/colab-badge.svg\" alt=\"Open In Colab\"/></a>"
      ]
    },
    {
      "cell_type": "markdown",
      "source": [
        "import fungsi yang akan digunakan :"
      ],
      "metadata": {
        "id": "WD4-UZ42f8Y0"
      }
    },
    {
      "cell_type": "code",
      "execution_count": 20,
      "metadata": {
        "id": "Wd-BNIbYbns7"
      },
      "outputs": [],
      "source": [
        "import numpy as np\n",
        "import matplotlib.pyplot as plt\n",
        "import pandas as pd"
      ]
    },
    {
      "cell_type": "markdown",
      "source": [
        "Memasukan dataset :\n",
        "\n"
      ],
      "metadata": {
        "id": "MRsFiZEpdKu3"
      }
    },
    {
      "cell_type": "code",
      "source": [
        "dataset = pd.read_csv('cuaca.csv')\n",
        "x = dataset.iloc[:, :-1].values\n",
        "y = dataset.iloc[:, -1].values"
      ],
      "metadata": {
        "id": "e5_M9C9oev_E"
      },
      "execution_count": 38,
      "outputs": []
    },
    {
      "cell_type": "markdown",
      "source": [
        "Pengecekan attribut :"
      ],
      "metadata": {
        "id": "95n-btSXgLob"
      }
    },
    {
      "cell_type": "code",
      "source": [
        "print(x)"
      ],
      "metadata": {
        "colab": {
          "base_uri": "https://localhost:8080/"
        },
        "id": "8MOqX6JsgRe0",
        "outputId": "15c057f1-5080-4d03-d466-1cf765a420ef"
      },
      "execution_count": 39,
      "outputs": [
        {
          "output_type": "stream",
          "name": "stdout",
          "text": [
            "[[23. 30. 25. 93.  3.]\n",
            " [24. 34. 28. 86.  6.]\n",
            " [24. 29. 25. 94.  1.]\n",
            " [22. 33. 27. 86.  7.]\n",
            " [23. 32. 26. 88.  3.]\n",
            " [23. 33. 27. 87.  5.]\n",
            " [24. 32. 26. 88.  5.]\n",
            " [23. 30. 26. nan  1.]\n",
            " [23. 32. 26. 82.  6.]\n",
            " [23. 31. 26. 89.  5.]\n",
            " [23. 32. 27. 82.  5.]\n",
            " [24. 31. 26. 88.  3.]]\n"
          ]
        }
      ]
    },
    {
      "cell_type": "markdown",
      "source": [
        "pengecekan label :\n",
        "\n",
        "\n"
      ],
      "metadata": {
        "id": "QdPJ4UTYgZeD"
      }
    },
    {
      "cell_type": "code",
      "source": [
        "print(y)"
      ],
      "metadata": {
        "colab": {
          "base_uri": "https://localhost:8080/"
        },
        "id": "Da5YRgOzgbwc",
        "outputId": "2a4e16e9-b8a8-4e3a-cd91-2d36279ea433"
      },
      "execution_count": 40,
      "outputs": [
        {
          "output_type": "stream",
          "name": "stdout",
          "text": [
            "['Lebat' 'Lebat' 'Lebat' 'S.Lebat' 'S.Lebat' 'Lebat' 'Lebat' 'Lebat'\n",
            " 'Lebat' 'Lebat' 'Lebat' 'Lebat']\n"
          ]
        }
      ]
    },
    {
      "cell_type": "markdown",
      "source": [
        "mengisi value yang kosong (nan) dengan rata-rata.\n",
        "\n",
        " :"
      ],
      "metadata": {
        "id": "9e_jZ9BZhiiD"
      }
    },
    {
      "cell_type": "code",
      "source": [
        "from sklearn.impute import SimpleImputer\n",
        "imputer = SimpleImputer(missing_values=np.nan, strategy='mean')\n",
        "imputer.fit(x[:, 1:3])\n",
        "x[:, 1:3] = imputer.transform(x[:, 1:3])"
      ],
      "metadata": {
        "id": "_BS6PLishlbx"
      },
      "execution_count": 41,
      "outputs": []
    },
    {
      "cell_type": "code",
      "source": [
        "print(x)"
      ],
      "metadata": {
        "colab": {
          "base_uri": "https://localhost:8080/"
        },
        "id": "8IX4z73akAdy",
        "outputId": "5ae5f288-e602-41a9-b393-1f9eb0f6994c"
      },
      "execution_count": 42,
      "outputs": [
        {
          "output_type": "stream",
          "name": "stdout",
          "text": [
            "[[23. 30. 25. 93.  3.]\n",
            " [24. 34. 28. 86.  6.]\n",
            " [24. 29. 25. 94.  1.]\n",
            " [22. 33. 27. 86.  7.]\n",
            " [23. 32. 26. 88.  3.]\n",
            " [23. 33. 27. 87.  5.]\n",
            " [24. 32. 26. 88.  5.]\n",
            " [23. 30. 26. nan  1.]\n",
            " [23. 32. 26. 82.  6.]\n",
            " [23. 31. 26. 89.  5.]\n",
            " [23. 32. 27. 82.  5.]\n",
            " [24. 31. 26. 88.  3.]]\n"
          ]
        }
      ]
    },
    {
      "cell_type": "markdown",
      "source": [
        "mengencoding data kategori(atribut) menjadi numerik & matriks :"
      ],
      "metadata": {
        "id": "zLARhBwxk1xS"
      }
    },
    {
      "cell_type": "code",
      "source": [
        "from sklearn.compose import ColumnTransformer\n",
        "from sklearn.preprocessing import OneHotEncoder\n",
        "ct = ColumnTransformer(transformers=[('encoder', OneHotEncoder(), [0])], remainder='passthrough')\n",
        "x = np.array(ct.fit_transform(x))"
      ],
      "metadata": {
        "id": "pqj-LGkjk3pp"
      },
      "execution_count": 43,
      "outputs": []
    },
    {
      "cell_type": "code",
      "source": [
        "print(x)"
      ],
      "metadata": {
        "colab": {
          "base_uri": "https://localhost:8080/"
        },
        "id": "T3C1uiUElEwI",
        "outputId": "9fc1dc8a-87f7-443a-e2db-8ecb164fe81a"
      },
      "execution_count": 44,
      "outputs": [
        {
          "output_type": "stream",
          "name": "stdout",
          "text": [
            "[[ 0.  1.  0. 30. 25. 93.  3.]\n",
            " [ 0.  0.  1. 34. 28. 86.  6.]\n",
            " [ 0.  0.  1. 29. 25. 94.  1.]\n",
            " [ 1.  0.  0. 33. 27. 86.  7.]\n",
            " [ 0.  1.  0. 32. 26. 88.  3.]\n",
            " [ 0.  1.  0. 33. 27. 87.  5.]\n",
            " [ 0.  0.  1. 32. 26. 88.  5.]\n",
            " [ 0.  1.  0. 30. 26. nan  1.]\n",
            " [ 0.  1.  0. 32. 26. 82.  6.]\n",
            " [ 0.  1.  0. 31. 26. 89.  5.]\n",
            " [ 0.  1.  0. 32. 27. 82.  5.]\n",
            " [ 0.  0.  1. 31. 26. 88.  3.]]\n"
          ]
        }
      ]
    },
    {
      "cell_type": "markdown",
      "source": [
        "mengencoding data label menjadi numerik & matriks :"
      ],
      "metadata": {
        "id": "MAFBEcRDlbFo"
      }
    },
    {
      "cell_type": "code",
      "source": [
        "from sklearn.preprocessing import LabelEncoder\n",
        "le = LabelEncoder()\n",
        "y = le.fit_transform(y)"
      ],
      "metadata": {
        "id": "D9SBBrSrlcuA"
      },
      "execution_count": 45,
      "outputs": []
    },
    {
      "cell_type": "code",
      "source": [
        "print(y)"
      ],
      "metadata": {
        "colab": {
          "base_uri": "https://localhost:8080/"
        },
        "id": "Ornt05VUlgTo",
        "outputId": "3f9bb225-ab54-4a0e-c17a-b373e4e00213"
      },
      "execution_count": 46,
      "outputs": [
        {
          "output_type": "stream",
          "name": "stdout",
          "text": [
            "[0 0 0 1 1 0 0 0 0 0 0 0]\n"
          ]
        }
      ]
    },
    {
      "cell_type": "markdown",
      "source": [
        "Membagi dataset ke dalam training set dan test set :"
      ],
      "metadata": {
        "id": "WREdDeyxlwAI"
      }
    },
    {
      "cell_type": "code",
      "source": [
        "from sklearn.model_selection import train_test_split\n",
        "x_train, x_test, y_train, y_test = train_test_split(x, y, test_size=0.2, random_state=1)"
      ],
      "metadata": {
        "id": "9qII_0mslz9g"
      },
      "execution_count": 47,
      "outputs": []
    },
    {
      "cell_type": "code",
      "source": [
        "print(x_train)"
      ],
      "metadata": {
        "colab": {
          "base_uri": "https://localhost:8080/"
        },
        "id": "SBUwWoibl6JQ",
        "outputId": "4635be19-da49-453c-c7e3-473c5f138836"
      },
      "execution_count": 48,
      "outputs": [
        {
          "output_type": "stream",
          "name": "stdout",
          "text": [
            "[[ 0.  1.  0. 32. 27. 82.  5.]\n",
            " [ 0.  0.  1. 34. 28. 86.  6.]\n",
            " [ 0.  0.  1. 32. 26. 88.  5.]\n",
            " [ 0.  1.  0. 30. 25. 93.  3.]\n",
            " [ 0.  1.  0. 30. 26. nan  1.]\n",
            " [ 0.  0.  1. 31. 26. 88.  3.]\n",
            " [ 0.  1.  0. 31. 26. 89.  5.]\n",
            " [ 0.  1.  0. 32. 26. 82.  6.]\n",
            " [ 0.  1.  0. 33. 27. 87.  5.]]\n"
          ]
        }
      ]
    },
    {
      "cell_type": "code",
      "source": [
        "print(x_test)"
      ],
      "metadata": {
        "colab": {
          "base_uri": "https://localhost:8080/"
        },
        "id": "H1rSkyV0l9Xw",
        "outputId": "be62d350-d38b-49c5-941e-cc96807d71ad"
      },
      "execution_count": 49,
      "outputs": [
        {
          "output_type": "stream",
          "name": "stdout",
          "text": [
            "[[ 0.  0.  1. 29. 25. 94.  1.]\n",
            " [ 1.  0.  0. 33. 27. 86.  7.]\n",
            " [ 0.  1.  0. 32. 26. 88.  3.]]\n"
          ]
        }
      ]
    },
    {
      "cell_type": "code",
      "source": [
        "print(y_train)"
      ],
      "metadata": {
        "colab": {
          "base_uri": "https://localhost:8080/"
        },
        "id": "ajyE1Gh5mGuQ",
        "outputId": "37a79151-1404-436a-caae-6639aec5608b"
      },
      "execution_count": 50,
      "outputs": [
        {
          "output_type": "stream",
          "name": "stdout",
          "text": [
            "[0 0 0 0 0 0 0 0 0]\n"
          ]
        }
      ]
    },
    {
      "cell_type": "code",
      "source": [
        "print(y_test)"
      ],
      "metadata": {
        "colab": {
          "base_uri": "https://localhost:8080/"
        },
        "id": "FWv78E6FmG0g",
        "outputId": "cafa9e85-18c5-41a6-ec99-dd145e2f9c5f"
      },
      "execution_count": 51,
      "outputs": [
        {
          "output_type": "stream",
          "name": "stdout",
          "text": [
            "[0 1 1]\n"
          ]
        }
      ]
    },
    {
      "cell_type": "markdown",
      "source": [
        "Feature Scaling pada kasus ini menggunakan standardscalling :"
      ],
      "metadata": {
        "id": "r4ssPNQfoDxP"
      }
    },
    {
      "cell_type": "code",
      "source": [
        "from sklearn.preprocessing import StandardScaler\n",
        "sc = StandardScaler()\n",
        "x_train[:, 3:] = sc.fit_transform(x_train[:, 3:])\n",
        "x_test[:, 3:] =sc.transform(x_test[:, 3:])"
      ],
      "metadata": {
        "id": "Px_KtfV1orN9"
      },
      "execution_count": 52,
      "outputs": []
    },
    {
      "cell_type": "code",
      "source": [
        "print(x_train)"
      ],
      "metadata": {
        "colab": {
          "base_uri": "https://localhost:8080/"
        },
        "id": "XAJRtdm7ovqn",
        "outputId": "ff3058a2-6c12-42ba-b1c9-fbb4a8760367"
      },
      "execution_count": 53,
      "outputs": [
        {
          "output_type": "stream",
          "name": "stdout",
          "text": [
            "[[ 0.          1.          0.          0.26726124  0.81649658 -1.43077123\n",
            "   0.42640143]\n",
            " [ 0.          0.          1.          1.87082869  2.04124145 -0.25680509\n",
            "   1.06600358]\n",
            " [ 0.          0.          1.          0.26726124 -0.40824829  0.33017798\n",
            "   0.42640143]\n",
            " [ 0.          1.          0.         -1.33630621 -1.63299316  1.79763565\n",
            "  -0.85280287]\n",
            " [ 0.          1.          0.         -1.33630621 -0.40824829         nan\n",
            "  -2.13200716]\n",
            " [ 0.          0.          1.         -0.53452248 -0.40824829  0.33017798\n",
            "  -0.85280287]\n",
            " [ 0.          1.          0.         -0.53452248 -0.40824829  0.62366951\n",
            "   0.42640143]\n",
            " [ 0.          1.          0.          0.26726124 -0.40824829 -1.43077123\n",
            "   1.06600358]\n",
            " [ 0.          1.          0.          1.06904497  0.81649658  0.03668644\n",
            "   0.42640143]]\n"
          ]
        }
      ]
    },
    {
      "cell_type": "code",
      "source": [
        "print(x_test)"
      ],
      "metadata": {
        "colab": {
          "base_uri": "https://localhost:8080/"
        },
        "id": "lJxfZS_do0SH",
        "outputId": "65fbcd3e-d72d-4b74-cb8a-08c05f1cc8cd"
      },
      "execution_count": 54,
      "outputs": [
        {
          "output_type": "stream",
          "name": "stdout",
          "text": [
            "[[ 0.          0.          1.         -2.13808994 -1.63299316  2.09112719\n",
            "  -2.13200716]\n",
            " [ 1.          0.          0.          1.06904497  0.81649658 -0.25680509\n",
            "   1.70560573]\n",
            " [ 0.          1.          0.          0.26726124 -0.40824829  0.33017798\n",
            "  -0.85280287]]\n"
          ]
        }
      ]
    }
  ]
}